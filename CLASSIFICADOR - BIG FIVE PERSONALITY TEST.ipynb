{
  "nbformat": 4,
  "nbformat_minor": 0,
  "metadata": {
    "colab": {
      "name": "Untitled6.ipynb",
      "provenance": []
    },
    "kernelspec": {
      "name": "python3",
      "display_name": "Python 3"
    },
    "language_info": {
      "name": "python"
    }
  },
  "cells": [
    {
      "cell_type": "markdown",
      "source": [
        "# **PROJETO BIG FIVE PERSONALITY TEST**"
      ],
      "metadata": {
        "id": "VSEctZXC5PLZ"
      }
    },
    {
      "cell_type": "markdown",
      "source": [
        "# 1.1 Referencias Utilizadas"
      ],
      "metadata": {
        "id": "RYdU6cBC5WSu"
      }
    },
    {
      "cell_type": "markdown",
      "source": [
        ">Este projeto foi sugerido pelo Felipe Santana do canal no youtube Stack\n",
        "\n",
        "\n",
        "1.   [Canal Stack - Link de Acesso](https://www.youtube.com/c/Stack_tecnologias)\n",
        "\n",
        "\n",
        "\n",
        "> Este projeto é um estudo do campo de aprendizado de máquina não supervisionado (Supervised Machine Learnig) que utilizará uma base de dados disponibilizada no KAGGLE.\n",
        "\n",
        "*   [Big Five Personality Test](https://www.kaggle.com/datasets/tunguz/big-five-personality-test/)\n",
        "\n",
        "\n"
      ],
      "metadata": {
        "id": "vnbyuzQz3vFW"
      }
    },
    {
      "cell_type": "markdown",
      "source": [
        "# 1.1 Descrição da Base de Dados"
      ],
      "metadata": {
        "id": "nlTkbBUe8GTZ"
      }
    },
    {
      "cell_type": "markdown",
      "source": [
        "A base de dados é composta por 1.013.558 dados coletados através de uma pesquisa online realizada entre 2016 e 2018, que visa mapear a personalidade do entrevistado através de 50 peguntas distribuidas nos 5 marcadores abaixo:\n",
        "\n",
        "*   **[EXT]** Extraversion (Extroversão)\n",
        "*   **[EST]** Emotional Stability (Estabilidade Emocional)\n",
        "*   **[AGR]** Agreeableness (Simpatia)\n",
        "*   **[CSN]** Conscientiousness (Conscienciosidade)\n",
        "*   **[OPN]** Imagination or openness to experience (Imaginação ou Abertura à Experiencia ) \n",
        "\n",
        "Existem 10 sentenças para cada um dos 5 marcadores de personalidade, que podem ser classificadas de 1 a 5, sendo \n",
        "\n",
        "\n",
        "*   **[1]** Corresponde a reposta de maior **DISCORDANCIA**,\n",
        "*   **[3]** Corresponde a resposta de maior **NEUTRALIDADE**\n",
        "*   **[5]** Corresponde a reposta de maior **CONCORDANCIA**\n",
        "\n",
        "\n",
        "\n",
        "\n",
        "\n",
        "\n",
        "  "
      ],
      "metadata": {
        "id": "K1Cw_Q2h8FEI"
      }
    },
    {
      "cell_type": "markdown",
      "source": [
        "# 1.2 Tratamento dos Dados\n"
      ],
      "metadata": {
        "id": "f9r1lKJIDL4i"
      }
    },
    {
      "cell_type": "code",
      "source": [
        "import numpy as np \n",
        "import pandas as pd"
      ],
      "metadata": {
        "id": "V-6F_QRZ31Ls"
      },
      "execution_count": 1,
      "outputs": []
    },
    {
      "cell_type": "markdown",
      "source": [
        ">A base de dados \"data-final.csv\" foi carrega no COLAB e possuiu um separador do tipo /t. Para o estudo em questão utilizaremos apenas as colunas referentes as 50 perguntas do teste de peronalidade, e portanto as demais colunas serão excluídas da base de dados"
      ],
      "metadata": {
        "id": "t_lI7gfvENZ4"
      }
    },
    {
      "cell_type": "code",
      "source": [
        "dados = pd.read_csv('data-final.csv', engine = \"python\", sep = \"\\t\")\n",
        "dados.drop(dados.columns[50:110], axis=1, inplace=True)"
      ],
      "metadata": {
        "id": "krRdWU1HDjuC"
      },
      "execution_count": 3,
      "outputs": []
    },
    {
      "cell_type": "code",
      "source": [
        "pd.options.display.float_format = \"{:.2f}\".format\n",
        "shape = dados.shape\n",
        "print(shape)\n",
        "dados.describe()\n"
      ],
      "metadata": {
        "colab": {
          "base_uri": "https://localhost:8080/",
          "height": 347
        },
        "id": "4dzvSrMVQP1-",
        "outputId": "435dfdf4-1272-475c-c7d1-7b5129831fde"
      },
      "execution_count": 4,
      "outputs": [
        {
          "output_type": "stream",
          "name": "stdout",
          "text": [
            "(1015341, 50)\n"
          ]
        },
        {
          "output_type": "execute_result",
          "data": {
            "text/plain": [
              "            EXT1       EXT2       EXT3       EXT4       EXT5       EXT6  \\\n",
              "count 1013558.00 1013558.00 1013558.00 1013558.00 1013558.00 1013558.00   \n",
              "mean        2.65       2.77       3.29       3.14       3.28       2.40   \n",
              "std         1.26       1.32       1.22       1.24       1.28       1.23   \n",
              "min         0.00       0.00       0.00       0.00       0.00       0.00   \n",
              "25%         1.00       2.00       2.00       2.00       2.00       1.00   \n",
              "50%         3.00       3.00       3.00       3.00       3.00       2.00   \n",
              "75%         4.00       4.00       4.00       4.00       4.00       3.00   \n",
              "max         5.00       5.00       5.00       5.00       5.00       5.00   \n",
              "\n",
              "            EXT7       EXT8       EXT9      EXT10  ...       OPN1       OPN2  \\\n",
              "count 1013558.00 1013558.00 1013558.00 1013558.00  ... 1013558.00 1013558.00   \n",
              "mean        2.77       3.41       2.96       3.56  ...       3.65       2.08   \n",
              "std         1.40       1.27       1.35       1.31  ...       1.16       1.11   \n",
              "min         0.00       0.00       0.00       0.00  ...       0.00       0.00   \n",
              "25%         2.00       2.00       2.00       3.00  ...       3.00       1.00   \n",
              "50%         3.00       4.00       3.00       4.00  ...       4.00       2.00   \n",
              "75%         4.00       4.00       4.00       5.00  ...       5.00       3.00   \n",
              "max         5.00       5.00       5.00       5.00  ...       5.00       5.00   \n",
              "\n",
              "            OPN3       OPN4       OPN5       OPN6       OPN7       OPN8  \\\n",
              "count 1013558.00 1013558.00 1013558.00 1013558.00 1013558.00 1013558.00   \n",
              "mean        4.00       2.00       3.79       1.89       3.98       3.18   \n",
              "std         1.10       1.09       0.99       1.10       1.01       1.26   \n",
              "min         0.00       0.00       0.00       0.00       0.00       0.00   \n",
              "25%         3.00       1.00       3.00       1.00       3.00       2.00   \n",
              "50%         4.00       2.00       4.00       2.00       4.00       3.00   \n",
              "75%         5.00       3.00       5.00       2.00       5.00       4.00   \n",
              "max         5.00       5.00       5.00       5.00       5.00       5.00   \n",
              "\n",
              "            OPN9      OPN10  \n",
              "count 1013558.00 1013558.00  \n",
              "mean        4.12       3.96  \n",
              "std         1.04       1.03  \n",
              "min         0.00       0.00  \n",
              "25%         4.00       3.00  \n",
              "50%         4.00       4.00  \n",
              "75%         5.00       5.00  \n",
              "max         5.00       5.00  \n",
              "\n",
              "[8 rows x 50 columns]"
            ],
            "text/html": [
              "\n",
              "  <div id=\"df-a59c8bc3-4b50-46a9-8884-8150d5fabfa5\">\n",
              "    <div class=\"colab-df-container\">\n",
              "      <div>\n",
              "<style scoped>\n",
              "    .dataframe tbody tr th:only-of-type {\n",
              "        vertical-align: middle;\n",
              "    }\n",
              "\n",
              "    .dataframe tbody tr th {\n",
              "        vertical-align: top;\n",
              "    }\n",
              "\n",
              "    .dataframe thead th {\n",
              "        text-align: right;\n",
              "    }\n",
              "</style>\n",
              "<table border=\"1\" class=\"dataframe\">\n",
              "  <thead>\n",
              "    <tr style=\"text-align: right;\">\n",
              "      <th></th>\n",
              "      <th>EXT1</th>\n",
              "      <th>EXT2</th>\n",
              "      <th>EXT3</th>\n",
              "      <th>EXT4</th>\n",
              "      <th>EXT5</th>\n",
              "      <th>EXT6</th>\n",
              "      <th>EXT7</th>\n",
              "      <th>EXT8</th>\n",
              "      <th>EXT9</th>\n",
              "      <th>EXT10</th>\n",
              "      <th>...</th>\n",
              "      <th>OPN1</th>\n",
              "      <th>OPN2</th>\n",
              "      <th>OPN3</th>\n",
              "      <th>OPN4</th>\n",
              "      <th>OPN5</th>\n",
              "      <th>OPN6</th>\n",
              "      <th>OPN7</th>\n",
              "      <th>OPN8</th>\n",
              "      <th>OPN9</th>\n",
              "      <th>OPN10</th>\n",
              "    </tr>\n",
              "  </thead>\n",
              "  <tbody>\n",
              "    <tr>\n",
              "      <th>count</th>\n",
              "      <td>1013558.00</td>\n",
              "      <td>1013558.00</td>\n",
              "      <td>1013558.00</td>\n",
              "      <td>1013558.00</td>\n",
              "      <td>1013558.00</td>\n",
              "      <td>1013558.00</td>\n",
              "      <td>1013558.00</td>\n",
              "      <td>1013558.00</td>\n",
              "      <td>1013558.00</td>\n",
              "      <td>1013558.00</td>\n",
              "      <td>...</td>\n",
              "      <td>1013558.00</td>\n",
              "      <td>1013558.00</td>\n",
              "      <td>1013558.00</td>\n",
              "      <td>1013558.00</td>\n",
              "      <td>1013558.00</td>\n",
              "      <td>1013558.00</td>\n",
              "      <td>1013558.00</td>\n",
              "      <td>1013558.00</td>\n",
              "      <td>1013558.00</td>\n",
              "      <td>1013558.00</td>\n",
              "    </tr>\n",
              "    <tr>\n",
              "      <th>mean</th>\n",
              "      <td>2.65</td>\n",
              "      <td>2.77</td>\n",
              "      <td>3.29</td>\n",
              "      <td>3.14</td>\n",
              "      <td>3.28</td>\n",
              "      <td>2.40</td>\n",
              "      <td>2.77</td>\n",
              "      <td>3.41</td>\n",
              "      <td>2.96</td>\n",
              "      <td>3.56</td>\n",
              "      <td>...</td>\n",
              "      <td>3.65</td>\n",
              "      <td>2.08</td>\n",
              "      <td>4.00</td>\n",
              "      <td>2.00</td>\n",
              "      <td>3.79</td>\n",
              "      <td>1.89</td>\n",
              "      <td>3.98</td>\n",
              "      <td>3.18</td>\n",
              "      <td>4.12</td>\n",
              "      <td>3.96</td>\n",
              "    </tr>\n",
              "    <tr>\n",
              "      <th>std</th>\n",
              "      <td>1.26</td>\n",
              "      <td>1.32</td>\n",
              "      <td>1.22</td>\n",
              "      <td>1.24</td>\n",
              "      <td>1.28</td>\n",
              "      <td>1.23</td>\n",
              "      <td>1.40</td>\n",
              "      <td>1.27</td>\n",
              "      <td>1.35</td>\n",
              "      <td>1.31</td>\n",
              "      <td>...</td>\n",
              "      <td>1.16</td>\n",
              "      <td>1.11</td>\n",
              "      <td>1.10</td>\n",
              "      <td>1.09</td>\n",
              "      <td>0.99</td>\n",
              "      <td>1.10</td>\n",
              "      <td>1.01</td>\n",
              "      <td>1.26</td>\n",
              "      <td>1.04</td>\n",
              "      <td>1.03</td>\n",
              "    </tr>\n",
              "    <tr>\n",
              "      <th>min</th>\n",
              "      <td>0.00</td>\n",
              "      <td>0.00</td>\n",
              "      <td>0.00</td>\n",
              "      <td>0.00</td>\n",
              "      <td>0.00</td>\n",
              "      <td>0.00</td>\n",
              "      <td>0.00</td>\n",
              "      <td>0.00</td>\n",
              "      <td>0.00</td>\n",
              "      <td>0.00</td>\n",
              "      <td>...</td>\n",
              "      <td>0.00</td>\n",
              "      <td>0.00</td>\n",
              "      <td>0.00</td>\n",
              "      <td>0.00</td>\n",
              "      <td>0.00</td>\n",
              "      <td>0.00</td>\n",
              "      <td>0.00</td>\n",
              "      <td>0.00</td>\n",
              "      <td>0.00</td>\n",
              "      <td>0.00</td>\n",
              "    </tr>\n",
              "    <tr>\n",
              "      <th>25%</th>\n",
              "      <td>1.00</td>\n",
              "      <td>2.00</td>\n",
              "      <td>2.00</td>\n",
              "      <td>2.00</td>\n",
              "      <td>2.00</td>\n",
              "      <td>1.00</td>\n",
              "      <td>2.00</td>\n",
              "      <td>2.00</td>\n",
              "      <td>2.00</td>\n",
              "      <td>3.00</td>\n",
              "      <td>...</td>\n",
              "      <td>3.00</td>\n",
              "      <td>1.00</td>\n",
              "      <td>3.00</td>\n",
              "      <td>1.00</td>\n",
              "      <td>3.00</td>\n",
              "      <td>1.00</td>\n",
              "      <td>3.00</td>\n",
              "      <td>2.00</td>\n",
              "      <td>4.00</td>\n",
              "      <td>3.00</td>\n",
              "    </tr>\n",
              "    <tr>\n",
              "      <th>50%</th>\n",
              "      <td>3.00</td>\n",
              "      <td>3.00</td>\n",
              "      <td>3.00</td>\n",
              "      <td>3.00</td>\n",
              "      <td>3.00</td>\n",
              "      <td>2.00</td>\n",
              "      <td>3.00</td>\n",
              "      <td>4.00</td>\n",
              "      <td>3.00</td>\n",
              "      <td>4.00</td>\n",
              "      <td>...</td>\n",
              "      <td>4.00</td>\n",
              "      <td>2.00</td>\n",
              "      <td>4.00</td>\n",
              "      <td>2.00</td>\n",
              "      <td>4.00</td>\n",
              "      <td>2.00</td>\n",
              "      <td>4.00</td>\n",
              "      <td>3.00</td>\n",
              "      <td>4.00</td>\n",
              "      <td>4.00</td>\n",
              "    </tr>\n",
              "    <tr>\n",
              "      <th>75%</th>\n",
              "      <td>4.00</td>\n",
              "      <td>4.00</td>\n",
              "      <td>4.00</td>\n",
              "      <td>4.00</td>\n",
              "      <td>4.00</td>\n",
              "      <td>3.00</td>\n",
              "      <td>4.00</td>\n",
              "      <td>4.00</td>\n",
              "      <td>4.00</td>\n",
              "      <td>5.00</td>\n",
              "      <td>...</td>\n",
              "      <td>5.00</td>\n",
              "      <td>3.00</td>\n",
              "      <td>5.00</td>\n",
              "      <td>3.00</td>\n",
              "      <td>5.00</td>\n",
              "      <td>2.00</td>\n",
              "      <td>5.00</td>\n",
              "      <td>4.00</td>\n",
              "      <td>5.00</td>\n",
              "      <td>5.00</td>\n",
              "    </tr>\n",
              "    <tr>\n",
              "      <th>max</th>\n",
              "      <td>5.00</td>\n",
              "      <td>5.00</td>\n",
              "      <td>5.00</td>\n",
              "      <td>5.00</td>\n",
              "      <td>5.00</td>\n",
              "      <td>5.00</td>\n",
              "      <td>5.00</td>\n",
              "      <td>5.00</td>\n",
              "      <td>5.00</td>\n",
              "      <td>5.00</td>\n",
              "      <td>...</td>\n",
              "      <td>5.00</td>\n",
              "      <td>5.00</td>\n",
              "      <td>5.00</td>\n",
              "      <td>5.00</td>\n",
              "      <td>5.00</td>\n",
              "      <td>5.00</td>\n",
              "      <td>5.00</td>\n",
              "      <td>5.00</td>\n",
              "      <td>5.00</td>\n",
              "      <td>5.00</td>\n",
              "    </tr>\n",
              "  </tbody>\n",
              "</table>\n",
              "<p>8 rows × 50 columns</p>\n",
              "</div>\n",
              "      <button class=\"colab-df-convert\" onclick=\"convertToInteractive('df-a59c8bc3-4b50-46a9-8884-8150d5fabfa5')\"\n",
              "              title=\"Convert this dataframe to an interactive table.\"\n",
              "              style=\"display:none;\">\n",
              "        \n",
              "  <svg xmlns=\"http://www.w3.org/2000/svg\" height=\"24px\"viewBox=\"0 0 24 24\"\n",
              "       width=\"24px\">\n",
              "    <path d=\"M0 0h24v24H0V0z\" fill=\"none\"/>\n",
              "    <path d=\"M18.56 5.44l.94 2.06.94-2.06 2.06-.94-2.06-.94-.94-2.06-.94 2.06-2.06.94zm-11 1L8.5 8.5l.94-2.06 2.06-.94-2.06-.94L8.5 2.5l-.94 2.06-2.06.94zm10 10l.94 2.06.94-2.06 2.06-.94-2.06-.94-.94-2.06-.94 2.06-2.06.94z\"/><path d=\"M17.41 7.96l-1.37-1.37c-.4-.4-.92-.59-1.43-.59-.52 0-1.04.2-1.43.59L10.3 9.45l-7.72 7.72c-.78.78-.78 2.05 0 2.83L4 21.41c.39.39.9.59 1.41.59.51 0 1.02-.2 1.41-.59l7.78-7.78 2.81-2.81c.8-.78.8-2.07 0-2.86zM5.41 20L4 18.59l7.72-7.72 1.47 1.35L5.41 20z\"/>\n",
              "  </svg>\n",
              "      </button>\n",
              "      \n",
              "  <style>\n",
              "    .colab-df-container {\n",
              "      display:flex;\n",
              "      flex-wrap:wrap;\n",
              "      gap: 12px;\n",
              "    }\n",
              "\n",
              "    .colab-df-convert {\n",
              "      background-color: #E8F0FE;\n",
              "      border: none;\n",
              "      border-radius: 50%;\n",
              "      cursor: pointer;\n",
              "      display: none;\n",
              "      fill: #1967D2;\n",
              "      height: 32px;\n",
              "      padding: 0 0 0 0;\n",
              "      width: 32px;\n",
              "    }\n",
              "\n",
              "    .colab-df-convert:hover {\n",
              "      background-color: #E2EBFA;\n",
              "      box-shadow: 0px 1px 2px rgba(60, 64, 67, 0.3), 0px 1px 3px 1px rgba(60, 64, 67, 0.15);\n",
              "      fill: #174EA6;\n",
              "    }\n",
              "\n",
              "    [theme=dark] .colab-df-convert {\n",
              "      background-color: #3B4455;\n",
              "      fill: #D2E3FC;\n",
              "    }\n",
              "\n",
              "    [theme=dark] .colab-df-convert:hover {\n",
              "      background-color: #434B5C;\n",
              "      box-shadow: 0px 1px 3px 1px rgba(0, 0, 0, 0.15);\n",
              "      filter: drop-shadow(0px 1px 2px rgba(0, 0, 0, 0.3));\n",
              "      fill: #FFFFFF;\n",
              "    }\n",
              "  </style>\n",
              "\n",
              "      <script>\n",
              "        const buttonEl =\n",
              "          document.querySelector('#df-a59c8bc3-4b50-46a9-8884-8150d5fabfa5 button.colab-df-convert');\n",
              "        buttonEl.style.display =\n",
              "          google.colab.kernel.accessAllowed ? 'block' : 'none';\n",
              "\n",
              "        async function convertToInteractive(key) {\n",
              "          const element = document.querySelector('#df-a59c8bc3-4b50-46a9-8884-8150d5fabfa5');\n",
              "          const dataTable =\n",
              "            await google.colab.kernel.invokeFunction('convertToInteractive',\n",
              "                                                     [key], {});\n",
              "          if (!dataTable) return;\n",
              "\n",
              "          const docLinkHtml = 'Like what you see? Visit the ' +\n",
              "            '<a target=\"_blank\" href=https://colab.research.google.com/notebooks/data_table.ipynb>data table notebook</a>'\n",
              "            + ' to learn more about interactive tables.';\n",
              "          element.innerHTML = '';\n",
              "          dataTable['output_type'] = 'display_data';\n",
              "          await google.colab.output.renderOutput(dataTable, element);\n",
              "          const docLink = document.createElement('div');\n",
              "          docLink.innerHTML = docLinkHtml;\n",
              "          element.appendChild(docLink);\n",
              "        }\n",
              "      </script>\n",
              "    </div>\n",
              "  </div>\n",
              "  "
            ]
          },
          "metadata": {},
          "execution_count": 4
        }
      ]
    },
    {
      "cell_type": "markdown",
      "source": [
        "> Através da propriedade \".shape\" do DataFrame Pandas é possível verificar que os processos de importação, separação e remoção das colunas ocorreram de forma correta, uma vez que a base de dados possui 1.013.558 dados dispostos em 50 colunas, conforme esperado\n",
        "\n",
        "> Já a análise do método \".describe()\" do DataFrame Pandas indica a presença de linhas com valor zerado, uma vez que a medida \"min\" para todas as colunas é igual a \"0\". As colunas do teste devem possuir por definição apenas valores de \"1\" a \"5\", o que torna necessário o processo de exclusão das linhas com valor \"0\"."
      ],
      "metadata": {
        "id": "rZU3f4619Zta"
      }
    },
    {
      "cell_type": "code",
      "source": [
        "dados = dados[(dados > 0.00).all(axis=1)]\n",
        "dados.describe()"
      ],
      "metadata": {
        "id": "a4QvKoFeOixd",
        "colab": {
          "base_uri": "https://localhost:8080/",
          "height": 330
        },
        "outputId": "260e63b0-df38-40e7-b3d5-c9c7e2d7c097"
      },
      "execution_count": 6,
      "outputs": [
        {
          "output_type": "execute_result",
          "data": {
            "text/plain": [
              "           EXT1      EXT2      EXT3      EXT4      EXT5      EXT6      EXT7  \\\n",
              "count 874434.00 874434.00 874434.00 874434.00 874434.00 874434.00 874434.00   \n",
              "mean       2.65      2.80      3.30      3.17      3.30      2.41      2.78   \n",
              "std        1.25      1.31      1.19      1.21      1.24      1.21      1.38   \n",
              "min        1.00      1.00      1.00      1.00      1.00      1.00      1.00   \n",
              "25%        2.00      2.00      2.00      2.00      2.00      1.00      2.00   \n",
              "50%        3.00      3.00      3.00      3.00      3.00      2.00      3.00   \n",
              "75%        4.00      4.00      4.00      4.00      4.00      3.00      4.00   \n",
              "max        5.00      5.00      5.00      5.00      5.00      5.00      5.00   \n",
              "\n",
              "           EXT8      EXT9     EXT10  ...      OPN1      OPN2      OPN3  \\\n",
              "count 874434.00 874434.00 874434.00  ... 874434.00 874434.00 874434.00   \n",
              "mean       3.44      2.98      3.59  ...      3.70      2.07      4.04   \n",
              "std        1.24      1.33      1.27  ...      1.10      1.10      1.04   \n",
              "min        1.00      1.00      1.00  ...      1.00      1.00      1.00   \n",
              "25%        2.00      2.00      3.00  ...      3.00      1.00      3.00   \n",
              "50%        4.00      3.00      4.00  ...      4.00      2.00      4.00   \n",
              "75%        4.00      4.00      5.00  ...      5.00      3.00      5.00   \n",
              "max        5.00      5.00      5.00  ...      5.00      5.00      5.00   \n",
              "\n",
              "           OPN4      OPN5      OPN6      OPN7      OPN8      OPN9     OPN10  \n",
              "count 874434.00 874434.00 874434.00 874434.00 874434.00 874434.00 874434.00  \n",
              "mean       2.00      3.82      1.90      4.02      3.22      4.17      3.98  \n",
              "std        1.07      0.93      1.08      0.94      1.22      0.97      0.99  \n",
              "min        1.00      1.00      1.00      1.00      1.00      1.00      1.00  \n",
              "25%        1.00      3.00      1.00      4.00      2.00      4.00      3.00  \n",
              "50%        2.00      4.00      2.00      4.00      3.00      4.00      4.00  \n",
              "75%        3.00      5.00      2.00      5.00      4.00      5.00      5.00  \n",
              "max        5.00      5.00      5.00      5.00      5.00      5.00      5.00  \n",
              "\n",
              "[8 rows x 50 columns]"
            ],
            "text/html": [
              "\n",
              "  <div id=\"df-04390b22-dd2a-460f-9c40-9760a3b3131b\">\n",
              "    <div class=\"colab-df-container\">\n",
              "      <div>\n",
              "<style scoped>\n",
              "    .dataframe tbody tr th:only-of-type {\n",
              "        vertical-align: middle;\n",
              "    }\n",
              "\n",
              "    .dataframe tbody tr th {\n",
              "        vertical-align: top;\n",
              "    }\n",
              "\n",
              "    .dataframe thead th {\n",
              "        text-align: right;\n",
              "    }\n",
              "</style>\n",
              "<table border=\"1\" class=\"dataframe\">\n",
              "  <thead>\n",
              "    <tr style=\"text-align: right;\">\n",
              "      <th></th>\n",
              "      <th>EXT1</th>\n",
              "      <th>EXT2</th>\n",
              "      <th>EXT3</th>\n",
              "      <th>EXT4</th>\n",
              "      <th>EXT5</th>\n",
              "      <th>EXT6</th>\n",
              "      <th>EXT7</th>\n",
              "      <th>EXT8</th>\n",
              "      <th>EXT9</th>\n",
              "      <th>EXT10</th>\n",
              "      <th>...</th>\n",
              "      <th>OPN1</th>\n",
              "      <th>OPN2</th>\n",
              "      <th>OPN3</th>\n",
              "      <th>OPN4</th>\n",
              "      <th>OPN5</th>\n",
              "      <th>OPN6</th>\n",
              "      <th>OPN7</th>\n",
              "      <th>OPN8</th>\n",
              "      <th>OPN9</th>\n",
              "      <th>OPN10</th>\n",
              "    </tr>\n",
              "  </thead>\n",
              "  <tbody>\n",
              "    <tr>\n",
              "      <th>count</th>\n",
              "      <td>874434.00</td>\n",
              "      <td>874434.00</td>\n",
              "      <td>874434.00</td>\n",
              "      <td>874434.00</td>\n",
              "      <td>874434.00</td>\n",
              "      <td>874434.00</td>\n",
              "      <td>874434.00</td>\n",
              "      <td>874434.00</td>\n",
              "      <td>874434.00</td>\n",
              "      <td>874434.00</td>\n",
              "      <td>...</td>\n",
              "      <td>874434.00</td>\n",
              "      <td>874434.00</td>\n",
              "      <td>874434.00</td>\n",
              "      <td>874434.00</td>\n",
              "      <td>874434.00</td>\n",
              "      <td>874434.00</td>\n",
              "      <td>874434.00</td>\n",
              "      <td>874434.00</td>\n",
              "      <td>874434.00</td>\n",
              "      <td>874434.00</td>\n",
              "    </tr>\n",
              "    <tr>\n",
              "      <th>mean</th>\n",
              "      <td>2.65</td>\n",
              "      <td>2.80</td>\n",
              "      <td>3.30</td>\n",
              "      <td>3.17</td>\n",
              "      <td>3.30</td>\n",
              "      <td>2.41</td>\n",
              "      <td>2.78</td>\n",
              "      <td>3.44</td>\n",
              "      <td>2.98</td>\n",
              "      <td>3.59</td>\n",
              "      <td>...</td>\n",
              "      <td>3.70</td>\n",
              "      <td>2.07</td>\n",
              "      <td>4.04</td>\n",
              "      <td>2.00</td>\n",
              "      <td>3.82</td>\n",
              "      <td>1.90</td>\n",
              "      <td>4.02</td>\n",
              "      <td>3.22</td>\n",
              "      <td>4.17</td>\n",
              "      <td>3.98</td>\n",
              "    </tr>\n",
              "    <tr>\n",
              "      <th>std</th>\n",
              "      <td>1.25</td>\n",
              "      <td>1.31</td>\n",
              "      <td>1.19</td>\n",
              "      <td>1.21</td>\n",
              "      <td>1.24</td>\n",
              "      <td>1.21</td>\n",
              "      <td>1.38</td>\n",
              "      <td>1.24</td>\n",
              "      <td>1.33</td>\n",
              "      <td>1.27</td>\n",
              "      <td>...</td>\n",
              "      <td>1.10</td>\n",
              "      <td>1.10</td>\n",
              "      <td>1.04</td>\n",
              "      <td>1.07</td>\n",
              "      <td>0.93</td>\n",
              "      <td>1.08</td>\n",
              "      <td>0.94</td>\n",
              "      <td>1.22</td>\n",
              "      <td>0.97</td>\n",
              "      <td>0.99</td>\n",
              "    </tr>\n",
              "    <tr>\n",
              "      <th>min</th>\n",
              "      <td>1.00</td>\n",
              "      <td>1.00</td>\n",
              "      <td>1.00</td>\n",
              "      <td>1.00</td>\n",
              "      <td>1.00</td>\n",
              "      <td>1.00</td>\n",
              "      <td>1.00</td>\n",
              "      <td>1.00</td>\n",
              "      <td>1.00</td>\n",
              "      <td>1.00</td>\n",
              "      <td>...</td>\n",
              "      <td>1.00</td>\n",
              "      <td>1.00</td>\n",
              "      <td>1.00</td>\n",
              "      <td>1.00</td>\n",
              "      <td>1.00</td>\n",
              "      <td>1.00</td>\n",
              "      <td>1.00</td>\n",
              "      <td>1.00</td>\n",
              "      <td>1.00</td>\n",
              "      <td>1.00</td>\n",
              "    </tr>\n",
              "    <tr>\n",
              "      <th>25%</th>\n",
              "      <td>2.00</td>\n",
              "      <td>2.00</td>\n",
              "      <td>2.00</td>\n",
              "      <td>2.00</td>\n",
              "      <td>2.00</td>\n",
              "      <td>1.00</td>\n",
              "      <td>2.00</td>\n",
              "      <td>2.00</td>\n",
              "      <td>2.00</td>\n",
              "      <td>3.00</td>\n",
              "      <td>...</td>\n",
              "      <td>3.00</td>\n",
              "      <td>1.00</td>\n",
              "      <td>3.00</td>\n",
              "      <td>1.00</td>\n",
              "      <td>3.00</td>\n",
              "      <td>1.00</td>\n",
              "      <td>4.00</td>\n",
              "      <td>2.00</td>\n",
              "      <td>4.00</td>\n",
              "      <td>3.00</td>\n",
              "    </tr>\n",
              "    <tr>\n",
              "      <th>50%</th>\n",
              "      <td>3.00</td>\n",
              "      <td>3.00</td>\n",
              "      <td>3.00</td>\n",
              "      <td>3.00</td>\n",
              "      <td>3.00</td>\n",
              "      <td>2.00</td>\n",
              "      <td>3.00</td>\n",
              "      <td>4.00</td>\n",
              "      <td>3.00</td>\n",
              "      <td>4.00</td>\n",
              "      <td>...</td>\n",
              "      <td>4.00</td>\n",
              "      <td>2.00</td>\n",
              "      <td>4.00</td>\n",
              "      <td>2.00</td>\n",
              "      <td>4.00</td>\n",
              "      <td>2.00</td>\n",
              "      <td>4.00</td>\n",
              "      <td>3.00</td>\n",
              "      <td>4.00</td>\n",
              "      <td>4.00</td>\n",
              "    </tr>\n",
              "    <tr>\n",
              "      <th>75%</th>\n",
              "      <td>4.00</td>\n",
              "      <td>4.00</td>\n",
              "      <td>4.00</td>\n",
              "      <td>4.00</td>\n",
              "      <td>4.00</td>\n",
              "      <td>3.00</td>\n",
              "      <td>4.00</td>\n",
              "      <td>4.00</td>\n",
              "      <td>4.00</td>\n",
              "      <td>5.00</td>\n",
              "      <td>...</td>\n",
              "      <td>5.00</td>\n",
              "      <td>3.00</td>\n",
              "      <td>5.00</td>\n",
              "      <td>3.00</td>\n",
              "      <td>5.00</td>\n",
              "      <td>2.00</td>\n",
              "      <td>5.00</td>\n",
              "      <td>4.00</td>\n",
              "      <td>5.00</td>\n",
              "      <td>5.00</td>\n",
              "    </tr>\n",
              "    <tr>\n",
              "      <th>max</th>\n",
              "      <td>5.00</td>\n",
              "      <td>5.00</td>\n",
              "      <td>5.00</td>\n",
              "      <td>5.00</td>\n",
              "      <td>5.00</td>\n",
              "      <td>5.00</td>\n",
              "      <td>5.00</td>\n",
              "      <td>5.00</td>\n",
              "      <td>5.00</td>\n",
              "      <td>5.00</td>\n",
              "      <td>...</td>\n",
              "      <td>5.00</td>\n",
              "      <td>5.00</td>\n",
              "      <td>5.00</td>\n",
              "      <td>5.00</td>\n",
              "      <td>5.00</td>\n",
              "      <td>5.00</td>\n",
              "      <td>5.00</td>\n",
              "      <td>5.00</td>\n",
              "      <td>5.00</td>\n",
              "      <td>5.00</td>\n",
              "    </tr>\n",
              "  </tbody>\n",
              "</table>\n",
              "<p>8 rows × 50 columns</p>\n",
              "</div>\n",
              "      <button class=\"colab-df-convert\" onclick=\"convertToInteractive('df-04390b22-dd2a-460f-9c40-9760a3b3131b')\"\n",
              "              title=\"Convert this dataframe to an interactive table.\"\n",
              "              style=\"display:none;\">\n",
              "        \n",
              "  <svg xmlns=\"http://www.w3.org/2000/svg\" height=\"24px\"viewBox=\"0 0 24 24\"\n",
              "       width=\"24px\">\n",
              "    <path d=\"M0 0h24v24H0V0z\" fill=\"none\"/>\n",
              "    <path d=\"M18.56 5.44l.94 2.06.94-2.06 2.06-.94-2.06-.94-.94-2.06-.94 2.06-2.06.94zm-11 1L8.5 8.5l.94-2.06 2.06-.94-2.06-.94L8.5 2.5l-.94 2.06-2.06.94zm10 10l.94 2.06.94-2.06 2.06-.94-2.06-.94-.94-2.06-.94 2.06-2.06.94z\"/><path d=\"M17.41 7.96l-1.37-1.37c-.4-.4-.92-.59-1.43-.59-.52 0-1.04.2-1.43.59L10.3 9.45l-7.72 7.72c-.78.78-.78 2.05 0 2.83L4 21.41c.39.39.9.59 1.41.59.51 0 1.02-.2 1.41-.59l7.78-7.78 2.81-2.81c.8-.78.8-2.07 0-2.86zM5.41 20L4 18.59l7.72-7.72 1.47 1.35L5.41 20z\"/>\n",
              "  </svg>\n",
              "      </button>\n",
              "      \n",
              "  <style>\n",
              "    .colab-df-container {\n",
              "      display:flex;\n",
              "      flex-wrap:wrap;\n",
              "      gap: 12px;\n",
              "    }\n",
              "\n",
              "    .colab-df-convert {\n",
              "      background-color: #E8F0FE;\n",
              "      border: none;\n",
              "      border-radius: 50%;\n",
              "      cursor: pointer;\n",
              "      display: none;\n",
              "      fill: #1967D2;\n",
              "      height: 32px;\n",
              "      padding: 0 0 0 0;\n",
              "      width: 32px;\n",
              "    }\n",
              "\n",
              "    .colab-df-convert:hover {\n",
              "      background-color: #E2EBFA;\n",
              "      box-shadow: 0px 1px 2px rgba(60, 64, 67, 0.3), 0px 1px 3px 1px rgba(60, 64, 67, 0.15);\n",
              "      fill: #174EA6;\n",
              "    }\n",
              "\n",
              "    [theme=dark] .colab-df-convert {\n",
              "      background-color: #3B4455;\n",
              "      fill: #D2E3FC;\n",
              "    }\n",
              "\n",
              "    [theme=dark] .colab-df-convert:hover {\n",
              "      background-color: #434B5C;\n",
              "      box-shadow: 0px 1px 3px 1px rgba(0, 0, 0, 0.15);\n",
              "      filter: drop-shadow(0px 1px 2px rgba(0, 0, 0, 0.3));\n",
              "      fill: #FFFFFF;\n",
              "    }\n",
              "  </style>\n",
              "\n",
              "      <script>\n",
              "        const buttonEl =\n",
              "          document.querySelector('#df-04390b22-dd2a-460f-9c40-9760a3b3131b button.colab-df-convert');\n",
              "        buttonEl.style.display =\n",
              "          google.colab.kernel.accessAllowed ? 'block' : 'none';\n",
              "\n",
              "        async function convertToInteractive(key) {\n",
              "          const element = document.querySelector('#df-04390b22-dd2a-460f-9c40-9760a3b3131b');\n",
              "          const dataTable =\n",
              "            await google.colab.kernel.invokeFunction('convertToInteractive',\n",
              "                                                     [key], {});\n",
              "          if (!dataTable) return;\n",
              "\n",
              "          const docLinkHtml = 'Like what you see? Visit the ' +\n",
              "            '<a target=\"_blank\" href=https://colab.research.google.com/notebooks/data_table.ipynb>data table notebook</a>'\n",
              "            + ' to learn more about interactive tables.';\n",
              "          element.innerHTML = '';\n",
              "          dataTable['output_type'] = 'display_data';\n",
              "          await google.colab.output.renderOutput(dataTable, element);\n",
              "          const docLink = document.createElement('div');\n",
              "          docLink.innerHTML = docLinkHtml;\n",
              "          element.appendChild(docLink);\n",
              "        }\n",
              "      </script>\n",
              "    </div>\n",
              "  </div>\n",
              "  "
            ]
          },
          "metadata": {},
          "execution_count": 6
        }
      ]
    },
    {
      "cell_type": "markdown",
      "source": [
        "# 1.3 Escolha do Classificador"
      ],
      "metadata": {
        "id": "lX3kNeSdFFjj"
      }
    },
    {
      "cell_type": "markdown",
      "source": [
        "> Dentre as diversas opções disponpiveis na secção de \"Clusterings\" do Scikit-Learn, foi definido para este projeto a utilização do \"Classificador\" **KMeans**, que é o mais popular entre os classificadores disponíveis e possui apenas um paparametro de entrada, isto é, o número de \"clusters\" desejados"
      ],
      "metadata": {
        "id": "_a6PcH5dGpVC"
      }
    },
    {
      "cell_type": "code",
      "source": [
        "from sklearn.cluster import KMeans"
      ],
      "metadata": {
        "id": "7zrii5nIOkOO"
      },
      "execution_count": 7,
      "outputs": []
    },
    {
      "cell_type": "markdown",
      "source": [
        "> O classificador KMeans é normalmente utilizado para um pequeno ou médio número de clusters, porém em quantos \"clusters\" exatamente devemos classificar a base de dados deste projeto ? Cada \"Cluster\" representará um traço de personalidade distinto, e portanto, sabemos que por definição o número de clusters deverá ser igual a 5.\n",
        "\n",
        "> Mas e se tivessemos um caso onde o número de clusters desejados não estivesse exatamente definido? Neste caso poderiamos utilizar algumas ferramentas que indicam o número ideal de clusters com base na distinção entre os dados da base de dados, como por exemplo o Silhouette Score do prório Scikit-Learn ou o KElbowVisualizer da biblioteca YellowBrick"
      ],
      "metadata": {
        "id": "DyDI8rt7IdOK"
      }
    },
    {
      "cell_type": "markdown",
      "source": [
        "> Por se tratar de uma DataFrame de muitas linhas (874.434 após a remoção dos valores zerados), será necessário realizar o estudo de otimização do número de clusters através de uma amostra do total de dados, uma vez que os métodos Silhouette Score e KElbowVisualizer possuem um custo processual muito alto."
      ],
      "metadata": {
        "id": "zhnYTr_7H-gD"
      }
    },
    {
      "cell_type": "code",
      "source": [
        "dados_amostra = dados.sample(frac=0.1,random_state=200)\n",
        "dados_amostra.describe()"
      ],
      "metadata": {
        "colab": {
          "base_uri": "https://localhost:8080/",
          "height": 330
        },
        "id": "oACC9FCoIe-y",
        "outputId": "4b09e738-d4ac-42c9-ae74-575ccf8ecab9"
      },
      "execution_count": 25,
      "outputs": [
        {
          "output_type": "execute_result",
          "data": {
            "text/plain": [
              "          EXT1     EXT2     EXT3     EXT4     EXT5     EXT6     EXT7     EXT8  \\\n",
              "count 87443.00 87443.00 87443.00 87443.00 87443.00 87443.00 87443.00 87443.00   \n",
              "mean      2.64     2.80     3.30     3.17     3.30     2.41     2.78     3.44   \n",
              "std       1.25     1.31     1.19     1.21     1.24     1.21     1.38     1.25   \n",
              "min       1.00     1.00     1.00     1.00     1.00     1.00     1.00     1.00   \n",
              "25%       2.00     2.00     2.00     2.00     2.00     1.00     2.00     2.00   \n",
              "50%       3.00     3.00     3.00     3.00     3.00     2.00     3.00     4.00   \n",
              "75%       4.00     4.00     4.00     4.00     4.00     3.00     4.00     4.00   \n",
              "max       5.00     5.00     5.00     5.00     5.00     5.00     5.00     5.00   \n",
              "\n",
              "          EXT9    EXT10  ...     OPN1     OPN2     OPN3     OPN4     OPN5  \\\n",
              "count 87443.00 87443.00  ... 87443.00 87443.00 87443.00 87443.00 87443.00   \n",
              "mean      2.98     3.58  ...     3.70     2.07     4.04     2.00     3.82   \n",
              "std       1.33     1.28  ...     1.10     1.09     1.04     1.07     0.94   \n",
              "min       1.00     1.00  ...     1.00     1.00     1.00     1.00     1.00   \n",
              "25%       2.00     3.00  ...     3.00     1.00     3.00     1.00     3.00   \n",
              "50%       3.00     4.00  ...     4.00     2.00     4.00     2.00     4.00   \n",
              "75%       4.00     5.00  ...     5.00     3.00     5.00     3.00     5.00   \n",
              "max       5.00     5.00  ...     5.00     5.00     5.00     5.00     5.00   \n",
              "\n",
              "          OPN6     OPN7     OPN8     OPN9    OPN10  \n",
              "count 87443.00 87443.00 87443.00 87443.00 87443.00  \n",
              "mean      1.90     4.02     3.22     4.17     3.98  \n",
              "std       1.08     0.93     1.22     0.97     0.99  \n",
              "min       1.00     1.00     1.00     1.00     1.00  \n",
              "25%       1.00     4.00     2.00     4.00     3.00  \n",
              "50%       2.00     4.00     3.00     4.00     4.00  \n",
              "75%       2.00     5.00     4.00     5.00     5.00  \n",
              "max       5.00     5.00     5.00     5.00     5.00  \n",
              "\n",
              "[8 rows x 50 columns]"
            ],
            "text/html": [
              "\n",
              "  <div id=\"df-b145cf99-028c-408d-8db7-7a01866d482e\">\n",
              "    <div class=\"colab-df-container\">\n",
              "      <div>\n",
              "<style scoped>\n",
              "    .dataframe tbody tr th:only-of-type {\n",
              "        vertical-align: middle;\n",
              "    }\n",
              "\n",
              "    .dataframe tbody tr th {\n",
              "        vertical-align: top;\n",
              "    }\n",
              "\n",
              "    .dataframe thead th {\n",
              "        text-align: right;\n",
              "    }\n",
              "</style>\n",
              "<table border=\"1\" class=\"dataframe\">\n",
              "  <thead>\n",
              "    <tr style=\"text-align: right;\">\n",
              "      <th></th>\n",
              "      <th>EXT1</th>\n",
              "      <th>EXT2</th>\n",
              "      <th>EXT3</th>\n",
              "      <th>EXT4</th>\n",
              "      <th>EXT5</th>\n",
              "      <th>EXT6</th>\n",
              "      <th>EXT7</th>\n",
              "      <th>EXT8</th>\n",
              "      <th>EXT9</th>\n",
              "      <th>EXT10</th>\n",
              "      <th>...</th>\n",
              "      <th>OPN1</th>\n",
              "      <th>OPN2</th>\n",
              "      <th>OPN3</th>\n",
              "      <th>OPN4</th>\n",
              "      <th>OPN5</th>\n",
              "      <th>OPN6</th>\n",
              "      <th>OPN7</th>\n",
              "      <th>OPN8</th>\n",
              "      <th>OPN9</th>\n",
              "      <th>OPN10</th>\n",
              "    </tr>\n",
              "  </thead>\n",
              "  <tbody>\n",
              "    <tr>\n",
              "      <th>count</th>\n",
              "      <td>87443.00</td>\n",
              "      <td>87443.00</td>\n",
              "      <td>87443.00</td>\n",
              "      <td>87443.00</td>\n",
              "      <td>87443.00</td>\n",
              "      <td>87443.00</td>\n",
              "      <td>87443.00</td>\n",
              "      <td>87443.00</td>\n",
              "      <td>87443.00</td>\n",
              "      <td>87443.00</td>\n",
              "      <td>...</td>\n",
              "      <td>87443.00</td>\n",
              "      <td>87443.00</td>\n",
              "      <td>87443.00</td>\n",
              "      <td>87443.00</td>\n",
              "      <td>87443.00</td>\n",
              "      <td>87443.00</td>\n",
              "      <td>87443.00</td>\n",
              "      <td>87443.00</td>\n",
              "      <td>87443.00</td>\n",
              "      <td>87443.00</td>\n",
              "    </tr>\n",
              "    <tr>\n",
              "      <th>mean</th>\n",
              "      <td>2.64</td>\n",
              "      <td>2.80</td>\n",
              "      <td>3.30</td>\n",
              "      <td>3.17</td>\n",
              "      <td>3.30</td>\n",
              "      <td>2.41</td>\n",
              "      <td>2.78</td>\n",
              "      <td>3.44</td>\n",
              "      <td>2.98</td>\n",
              "      <td>3.58</td>\n",
              "      <td>...</td>\n",
              "      <td>3.70</td>\n",
              "      <td>2.07</td>\n",
              "      <td>4.04</td>\n",
              "      <td>2.00</td>\n",
              "      <td>3.82</td>\n",
              "      <td>1.90</td>\n",
              "      <td>4.02</td>\n",
              "      <td>3.22</td>\n",
              "      <td>4.17</td>\n",
              "      <td>3.98</td>\n",
              "    </tr>\n",
              "    <tr>\n",
              "      <th>std</th>\n",
              "      <td>1.25</td>\n",
              "      <td>1.31</td>\n",
              "      <td>1.19</td>\n",
              "      <td>1.21</td>\n",
              "      <td>1.24</td>\n",
              "      <td>1.21</td>\n",
              "      <td>1.38</td>\n",
              "      <td>1.25</td>\n",
              "      <td>1.33</td>\n",
              "      <td>1.28</td>\n",
              "      <td>...</td>\n",
              "      <td>1.10</td>\n",
              "      <td>1.09</td>\n",
              "      <td>1.04</td>\n",
              "      <td>1.07</td>\n",
              "      <td>0.94</td>\n",
              "      <td>1.08</td>\n",
              "      <td>0.93</td>\n",
              "      <td>1.22</td>\n",
              "      <td>0.97</td>\n",
              "      <td>0.99</td>\n",
              "    </tr>\n",
              "    <tr>\n",
              "      <th>min</th>\n",
              "      <td>1.00</td>\n",
              "      <td>1.00</td>\n",
              "      <td>1.00</td>\n",
              "      <td>1.00</td>\n",
              "      <td>1.00</td>\n",
              "      <td>1.00</td>\n",
              "      <td>1.00</td>\n",
              "      <td>1.00</td>\n",
              "      <td>1.00</td>\n",
              "      <td>1.00</td>\n",
              "      <td>...</td>\n",
              "      <td>1.00</td>\n",
              "      <td>1.00</td>\n",
              "      <td>1.00</td>\n",
              "      <td>1.00</td>\n",
              "      <td>1.00</td>\n",
              "      <td>1.00</td>\n",
              "      <td>1.00</td>\n",
              "      <td>1.00</td>\n",
              "      <td>1.00</td>\n",
              "      <td>1.00</td>\n",
              "    </tr>\n",
              "    <tr>\n",
              "      <th>25%</th>\n",
              "      <td>2.00</td>\n",
              "      <td>2.00</td>\n",
              "      <td>2.00</td>\n",
              "      <td>2.00</td>\n",
              "      <td>2.00</td>\n",
              "      <td>1.00</td>\n",
              "      <td>2.00</td>\n",
              "      <td>2.00</td>\n",
              "      <td>2.00</td>\n",
              "      <td>3.00</td>\n",
              "      <td>...</td>\n",
              "      <td>3.00</td>\n",
              "      <td>1.00</td>\n",
              "      <td>3.00</td>\n",
              "      <td>1.00</td>\n",
              "      <td>3.00</td>\n",
              "      <td>1.00</td>\n",
              "      <td>4.00</td>\n",
              "      <td>2.00</td>\n",
              "      <td>4.00</td>\n",
              "      <td>3.00</td>\n",
              "    </tr>\n",
              "    <tr>\n",
              "      <th>50%</th>\n",
              "      <td>3.00</td>\n",
              "      <td>3.00</td>\n",
              "      <td>3.00</td>\n",
              "      <td>3.00</td>\n",
              "      <td>3.00</td>\n",
              "      <td>2.00</td>\n",
              "      <td>3.00</td>\n",
              "      <td>4.00</td>\n",
              "      <td>3.00</td>\n",
              "      <td>4.00</td>\n",
              "      <td>...</td>\n",
              "      <td>4.00</td>\n",
              "      <td>2.00</td>\n",
              "      <td>4.00</td>\n",
              "      <td>2.00</td>\n",
              "      <td>4.00</td>\n",
              "      <td>2.00</td>\n",
              "      <td>4.00</td>\n",
              "      <td>3.00</td>\n",
              "      <td>4.00</td>\n",
              "      <td>4.00</td>\n",
              "    </tr>\n",
              "    <tr>\n",
              "      <th>75%</th>\n",
              "      <td>4.00</td>\n",
              "      <td>4.00</td>\n",
              "      <td>4.00</td>\n",
              "      <td>4.00</td>\n",
              "      <td>4.00</td>\n",
              "      <td>3.00</td>\n",
              "      <td>4.00</td>\n",
              "      <td>4.00</td>\n",
              "      <td>4.00</td>\n",
              "      <td>5.00</td>\n",
              "      <td>...</td>\n",
              "      <td>5.00</td>\n",
              "      <td>3.00</td>\n",
              "      <td>5.00</td>\n",
              "      <td>3.00</td>\n",
              "      <td>5.00</td>\n",
              "      <td>2.00</td>\n",
              "      <td>5.00</td>\n",
              "      <td>4.00</td>\n",
              "      <td>5.00</td>\n",
              "      <td>5.00</td>\n",
              "    </tr>\n",
              "    <tr>\n",
              "      <th>max</th>\n",
              "      <td>5.00</td>\n",
              "      <td>5.00</td>\n",
              "      <td>5.00</td>\n",
              "      <td>5.00</td>\n",
              "      <td>5.00</td>\n",
              "      <td>5.00</td>\n",
              "      <td>5.00</td>\n",
              "      <td>5.00</td>\n",
              "      <td>5.00</td>\n",
              "      <td>5.00</td>\n",
              "      <td>...</td>\n",
              "      <td>5.00</td>\n",
              "      <td>5.00</td>\n",
              "      <td>5.00</td>\n",
              "      <td>5.00</td>\n",
              "      <td>5.00</td>\n",
              "      <td>5.00</td>\n",
              "      <td>5.00</td>\n",
              "      <td>5.00</td>\n",
              "      <td>5.00</td>\n",
              "      <td>5.00</td>\n",
              "    </tr>\n",
              "  </tbody>\n",
              "</table>\n",
              "<p>8 rows × 50 columns</p>\n",
              "</div>\n",
              "      <button class=\"colab-df-convert\" onclick=\"convertToInteractive('df-b145cf99-028c-408d-8db7-7a01866d482e')\"\n",
              "              title=\"Convert this dataframe to an interactive table.\"\n",
              "              style=\"display:none;\">\n",
              "        \n",
              "  <svg xmlns=\"http://www.w3.org/2000/svg\" height=\"24px\"viewBox=\"0 0 24 24\"\n",
              "       width=\"24px\">\n",
              "    <path d=\"M0 0h24v24H0V0z\" fill=\"none\"/>\n",
              "    <path d=\"M18.56 5.44l.94 2.06.94-2.06 2.06-.94-2.06-.94-.94-2.06-.94 2.06-2.06.94zm-11 1L8.5 8.5l.94-2.06 2.06-.94-2.06-.94L8.5 2.5l-.94 2.06-2.06.94zm10 10l.94 2.06.94-2.06 2.06-.94-2.06-.94-.94-2.06-.94 2.06-2.06.94z\"/><path d=\"M17.41 7.96l-1.37-1.37c-.4-.4-.92-.59-1.43-.59-.52 0-1.04.2-1.43.59L10.3 9.45l-7.72 7.72c-.78.78-.78 2.05 0 2.83L4 21.41c.39.39.9.59 1.41.59.51 0 1.02-.2 1.41-.59l7.78-7.78 2.81-2.81c.8-.78.8-2.07 0-2.86zM5.41 20L4 18.59l7.72-7.72 1.47 1.35L5.41 20z\"/>\n",
              "  </svg>\n",
              "      </button>\n",
              "      \n",
              "  <style>\n",
              "    .colab-df-container {\n",
              "      display:flex;\n",
              "      flex-wrap:wrap;\n",
              "      gap: 12px;\n",
              "    }\n",
              "\n",
              "    .colab-df-convert {\n",
              "      background-color: #E8F0FE;\n",
              "      border: none;\n",
              "      border-radius: 50%;\n",
              "      cursor: pointer;\n",
              "      display: none;\n",
              "      fill: #1967D2;\n",
              "      height: 32px;\n",
              "      padding: 0 0 0 0;\n",
              "      width: 32px;\n",
              "    }\n",
              "\n",
              "    .colab-df-convert:hover {\n",
              "      background-color: #E2EBFA;\n",
              "      box-shadow: 0px 1px 2px rgba(60, 64, 67, 0.3), 0px 1px 3px 1px rgba(60, 64, 67, 0.15);\n",
              "      fill: #174EA6;\n",
              "    }\n",
              "\n",
              "    [theme=dark] .colab-df-convert {\n",
              "      background-color: #3B4455;\n",
              "      fill: #D2E3FC;\n",
              "    }\n",
              "\n",
              "    [theme=dark] .colab-df-convert:hover {\n",
              "      background-color: #434B5C;\n",
              "      box-shadow: 0px 1px 3px 1px rgba(0, 0, 0, 0.15);\n",
              "      filter: drop-shadow(0px 1px 2px rgba(0, 0, 0, 0.3));\n",
              "      fill: #FFFFFF;\n",
              "    }\n",
              "  </style>\n",
              "\n",
              "      <script>\n",
              "        const buttonEl =\n",
              "          document.querySelector('#df-b145cf99-028c-408d-8db7-7a01866d482e button.colab-df-convert');\n",
              "        buttonEl.style.display =\n",
              "          google.colab.kernel.accessAllowed ? 'block' : 'none';\n",
              "\n",
              "        async function convertToInteractive(key) {\n",
              "          const element = document.querySelector('#df-b145cf99-028c-408d-8db7-7a01866d482e');\n",
              "          const dataTable =\n",
              "            await google.colab.kernel.invokeFunction('convertToInteractive',\n",
              "                                                     [key], {});\n",
              "          if (!dataTable) return;\n",
              "\n",
              "          const docLinkHtml = 'Like what you see? Visit the ' +\n",
              "            '<a target=\"_blank\" href=https://colab.research.google.com/notebooks/data_table.ipynb>data table notebook</a>'\n",
              "            + ' to learn more about interactive tables.';\n",
              "          element.innerHTML = '';\n",
              "          dataTable['output_type'] = 'display_data';\n",
              "          await google.colab.output.renderOutput(dataTable, element);\n",
              "          const docLink = document.createElement('div');\n",
              "          docLink.innerHTML = docLinkHtml;\n",
              "          element.appendChild(docLink);\n",
              "        }\n",
              "      </script>\n",
              "    </div>\n",
              "  </div>\n",
              "  "
            ]
          },
          "metadata": {},
          "execution_count": 25
        }
      ]
    },
    {
      "cell_type": "markdown",
      "source": [
        "> Mesmo com 10% dos dados totais, o DataFrame de amostras ainda possui um valor consideravelmente grande de dados (87.443)"
      ],
      "metadata": {
        "id": "N1wVoKIDIlCp"
      }
    },
    {
      "cell_type": "markdown",
      "source": [
        "# 1.3.1 Otimização do Número de Cluster por Silhouette Score"
      ],
      "metadata": {
        "id": "r8Iko-gTH_9F"
      }
    },
    {
      "cell_type": "markdown",
      "source": [
        "> Utilizaremos a métrica Silhouette Score do Scikit-Learn para obter uma medida que representa a consistência do agrupamento realizado pelo KMeans. Para identificar a quantidade ideal de \"clusters\", treinaremos o modelo com todas as possibilidades de 2 a 10 clusters e selecionaremos aquele que obtiver o maior Silhouette Score."
      ],
      "metadata": {
        "id": "Pa5UQUc4L5z-"
      }
    },
    {
      "cell_type": "code",
      "source": [
        "from sklearn.metrics import silhouette_score\n",
        "import time"
      ],
      "metadata": {
        "id": "SggWbpkBJMAL"
      },
      "execution_count": 26,
      "outputs": []
    },
    {
      "cell_type": "markdown",
      "source": [
        "> Definiremos a funçaõ Temporizador_Silhouette_Score para averiguarmos o tempo de processamento do Silhouette Score, de forma a avaliar a viabilidade de execução deste processo neste tamanho de amostra, uma vez que o mesmo rodará 9 vezes (Número de Clusters de 2 a 10)"
      ],
      "metadata": {
        "id": "LNeoRXmPMvBK"
      }
    },
    {
      "cell_type": "code",
      "source": [
        "def Temporizador_Silhouette_Score(data):\n",
        "  classificador = KMeans(n_clusters = 2)\n",
        "  labels = classificador.fit_predict(data)\n",
        "  tic = time.time()\n",
        "  media_silhueta = silhouette_score(data, labels)\n",
        "  tac = time.time()\n",
        "  tempo_duracao = tac - tic\n",
        "  print(\"O Silhouette Score utilizando 2 Clusters foi de : %.2f\"%(media_silhueta))\n",
        "  print(\"O Tempo de Processamento do Silhouette Score doi de %.2f Minutos\"%(tempo_duracao/60))"
      ],
      "metadata": {
        "id": "TLME504mRmOw"
      },
      "execution_count": 32,
      "outputs": []
    },
    {
      "cell_type": "code",
      "source": [
        "Temporizador_Silhouette_Score(dados_amostra)"
      ],
      "metadata": {
        "colab": {
          "base_uri": "https://localhost:8080/"
        },
        "id": "9xk_-_pQKKWA",
        "outputId": "403575c2-d322-41cf-9a6d-639391d2d137"
      },
      "execution_count": 33,
      "outputs": [
        {
          "output_type": "stream",
          "name": "stdout",
          "text": [
            "O Silhouette Score utilizando 2 Clusters foi de : 0.10\n",
            "O Tempo de Processamento do Silhouette Score doi de 1.82 Minutos\n"
          ]
        }
      ]
    },
    {
      "cell_type": "markdown",
      "source": [
        "> Para um DataFrame de amostra com 10% do tamanho do DataFrame original, tem-se um custo processual de 1,8 minutos para cada variação do número de cluster. Logo, o processo de varredura de todos os números de clusters (de 2 a 10 clusters) levará 16,2 Minutos para ser concluído."
      ],
      "metadata": {
        "id": "6LJoRqi7NXJS"
      }
    },
    {
      "cell_type": "code",
      "source": [
        "def best_number_clusters (data,max_cluster):\n",
        "  for cluster in range(2, max_cluster+1):\n",
        "    classificador = KMeans(n_clusters=cluster)\n",
        "    labels = classificador.fit_predict(data)\n",
        "    tic = time.time()\n",
        "    media_silhueta = silhouette_score(data, labels)\n",
        "    tac = time.time()\n",
        "    tempo_duracao = tac - tic\n",
        "    print(\"O Silhouette Score utilizando %d Clusters foi de : %.2f, com um Tempo de Processamento de %.2f Minutos\"%(cluster, media_silhueta,(tempo_duracao/60)))\n",
        "    scores.append(media_silhueta)"
      ],
      "metadata": {
        "id": "Qywp8XdyKyO7"
      },
      "execution_count": 39,
      "outputs": []
    },
    {
      "cell_type": "code",
      "source": [
        "scores = []\n",
        "best_number_clusters(dados_amostra,10)"
      ],
      "metadata": {
        "colab": {
          "base_uri": "https://localhost:8080/"
        },
        "id": "7GP-dRSIOj_s",
        "outputId": "8dffa2cf-6e8f-4d32-c4a7-e84eb5582e41"
      },
      "execution_count": 42,
      "outputs": [
        {
          "output_type": "stream",
          "name": "stdout",
          "text": [
            "O Silhouette Score utilizando 2 Clusters foi de : 0.10, com um Tempo de Processamento de 1.88 Minutos\n",
            "O Silhouette Score utilizando 3 Clusters foi de : 0.07, com um Tempo de Processamento de 1.77 Minutos\n",
            "O Silhouette Score utilizando 4 Clusters foi de : 0.07, com um Tempo de Processamento de 1.68 Minutos\n",
            "O Silhouette Score utilizando 5 Clusters foi de : 0.06, com um Tempo de Processamento de 1.67 Minutos\n",
            "O Silhouette Score utilizando 6 Clusters foi de : 0.06, com um Tempo de Processamento de 1.65 Minutos\n",
            "O Silhouette Score utilizando 7 Clusters foi de : 0.05, com um Tempo de Processamento de 1.62 Minutos\n",
            "O Silhouette Score utilizando 8 Clusters foi de : 0.05, com um Tempo de Processamento de 1.60 Minutos\n",
            "O Silhouette Score utilizando 9 Clusters foi de : 0.05, com um Tempo de Processamento de 1.64 Minutos\n",
            "O Silhouette Score utilizando 10 Clusters foi de : 0.04, com um Tempo de Processamento de 1.68 Minutos\n"
          ]
        }
      ]
    },
    {
      "cell_type": "markdown",
      "source": [
        "> com os dados dos testes armazenados na variável \"scores\", torna-se possível a plotagem de um gráfico comparativo."
      ],
      "metadata": {
        "id": "dD6K4jnEbUo7"
      }
    },
    {
      "cell_type": "code",
      "source": [
        "import plotly.graph_objects as go\n",
        "\n",
        "def grafico_comparacao_silhouette_Score(scores):\n",
        "  faixa_de_clusters = [i for i in range(2, len(scores)+2)]\n",
        "  fig = go.Figure()\n",
        "  fig.add_trace(go.Scatter(x = faixa_de_clusters,  y = scores))\n",
        "  fig.update_layout(title = \"Valores de Silhuenta Medios\", xaxis_title = \"Numero de Clusters\", yaxis_title = \"Valor Média de Silhueta\")\n",
        "  fig.show()"
      ],
      "metadata": {
        "id": "4ajzAiOcZ0GG"
      },
      "execution_count": 50,
      "outputs": []
    },
    {
      "cell_type": "code",
      "source": [
        "grafico_comparacao_silhouette_Score(scores)"
      ],
      "metadata": {
        "colab": {
          "base_uri": "https://localhost:8080/",
          "height": 542
        },
        "id": "zPiTEb81awUF",
        "outputId": "77ca298e-5621-4c73-9aec-47130e8f1c79"
      },
      "execution_count": 51,
      "outputs": [
        {
          "output_type": "display_data",
          "data": {
            "text/html": [
              "<html>\n",
              "<head><meta charset=\"utf-8\" /></head>\n",
              "<body>\n",
              "    <div>            <script src=\"https://cdnjs.cloudflare.com/ajax/libs/mathjax/2.7.5/MathJax.js?config=TeX-AMS-MML_SVG\"></script><script type=\"text/javascript\">if (window.MathJax) {MathJax.Hub.Config({SVG: {font: \"STIX-Web\"}});}</script>                <script type=\"text/javascript\">window.PlotlyConfig = {MathJaxConfig: 'local'};</script>\n",
              "        <script src=\"https://cdn.plot.ly/plotly-2.8.3.min.js\"></script>                <div id=\"50e7cb61-ab94-446b-b833-43aa6fad5870\" class=\"plotly-graph-div\" style=\"height:525px; width:100%;\"></div>            <script type=\"text/javascript\">                                    window.PLOTLYENV=window.PLOTLYENV || {};                                    if (document.getElementById(\"50e7cb61-ab94-446b-b833-43aa6fad5870\")) {                    Plotly.newPlot(                        \"50e7cb61-ab94-446b-b833-43aa6fad5870\",                        [{\"x\":[2,3,4,5,6,7,8,9,10],\"y\":[0.0980664570701005,0.07468413388917872,0.06521615248951797,0.06037442192342584,0.05948344864146395,0.052558150652135156,0.05090646933087277,0.049181072410149095,0.044692883249445224],\"type\":\"scatter\"}],                        {\"template\":{\"data\":{\"bar\":[{\"error_x\":{\"color\":\"#2a3f5f\"},\"error_y\":{\"color\":\"#2a3f5f\"},\"marker\":{\"line\":{\"color\":\"#E5ECF6\",\"width\":0.5},\"pattern\":{\"fillmode\":\"overlay\",\"size\":10,\"solidity\":0.2}},\"type\":\"bar\"}],\"barpolar\":[{\"marker\":{\"line\":{\"color\":\"#E5ECF6\",\"width\":0.5},\"pattern\":{\"fillmode\":\"overlay\",\"size\":10,\"solidity\":0.2}},\"type\":\"barpolar\"}],\"carpet\":[{\"aaxis\":{\"endlinecolor\":\"#2a3f5f\",\"gridcolor\":\"white\",\"linecolor\":\"white\",\"minorgridcolor\":\"white\",\"startlinecolor\":\"#2a3f5f\"},\"baxis\":{\"endlinecolor\":\"#2a3f5f\",\"gridcolor\":\"white\",\"linecolor\":\"white\",\"minorgridcolor\":\"white\",\"startlinecolor\":\"#2a3f5f\"},\"type\":\"carpet\"}],\"choropleth\":[{\"colorbar\":{\"outlinewidth\":0,\"ticks\":\"\"},\"type\":\"choropleth\"}],\"contour\":[{\"colorbar\":{\"outlinewidth\":0,\"ticks\":\"\"},\"colorscale\":[[0.0,\"#0d0887\"],[0.1111111111111111,\"#46039f\"],[0.2222222222222222,\"#7201a8\"],[0.3333333333333333,\"#9c179e\"],[0.4444444444444444,\"#bd3786\"],[0.5555555555555556,\"#d8576b\"],[0.6666666666666666,\"#ed7953\"],[0.7777777777777778,\"#fb9f3a\"],[0.8888888888888888,\"#fdca26\"],[1.0,\"#f0f921\"]],\"type\":\"contour\"}],\"contourcarpet\":[{\"colorbar\":{\"outlinewidth\":0,\"ticks\":\"\"},\"type\":\"contourcarpet\"}],\"heatmap\":[{\"colorbar\":{\"outlinewidth\":0,\"ticks\":\"\"},\"colorscale\":[[0.0,\"#0d0887\"],[0.1111111111111111,\"#46039f\"],[0.2222222222222222,\"#7201a8\"],[0.3333333333333333,\"#9c179e\"],[0.4444444444444444,\"#bd3786\"],[0.5555555555555556,\"#d8576b\"],[0.6666666666666666,\"#ed7953\"],[0.7777777777777778,\"#fb9f3a\"],[0.8888888888888888,\"#fdca26\"],[1.0,\"#f0f921\"]],\"type\":\"heatmap\"}],\"heatmapgl\":[{\"colorbar\":{\"outlinewidth\":0,\"ticks\":\"\"},\"colorscale\":[[0.0,\"#0d0887\"],[0.1111111111111111,\"#46039f\"],[0.2222222222222222,\"#7201a8\"],[0.3333333333333333,\"#9c179e\"],[0.4444444444444444,\"#bd3786\"],[0.5555555555555556,\"#d8576b\"],[0.6666666666666666,\"#ed7953\"],[0.7777777777777778,\"#fb9f3a\"],[0.8888888888888888,\"#fdca26\"],[1.0,\"#f0f921\"]],\"type\":\"heatmapgl\"}],\"histogram\":[{\"marker\":{\"pattern\":{\"fillmode\":\"overlay\",\"size\":10,\"solidity\":0.2}},\"type\":\"histogram\"}],\"histogram2d\":[{\"colorbar\":{\"outlinewidth\":0,\"ticks\":\"\"},\"colorscale\":[[0.0,\"#0d0887\"],[0.1111111111111111,\"#46039f\"],[0.2222222222222222,\"#7201a8\"],[0.3333333333333333,\"#9c179e\"],[0.4444444444444444,\"#bd3786\"],[0.5555555555555556,\"#d8576b\"],[0.6666666666666666,\"#ed7953\"],[0.7777777777777778,\"#fb9f3a\"],[0.8888888888888888,\"#fdca26\"],[1.0,\"#f0f921\"]],\"type\":\"histogram2d\"}],\"histogram2dcontour\":[{\"colorbar\":{\"outlinewidth\":0,\"ticks\":\"\"},\"colorscale\":[[0.0,\"#0d0887\"],[0.1111111111111111,\"#46039f\"],[0.2222222222222222,\"#7201a8\"],[0.3333333333333333,\"#9c179e\"],[0.4444444444444444,\"#bd3786\"],[0.5555555555555556,\"#d8576b\"],[0.6666666666666666,\"#ed7953\"],[0.7777777777777778,\"#fb9f3a\"],[0.8888888888888888,\"#fdca26\"],[1.0,\"#f0f921\"]],\"type\":\"histogram2dcontour\"}],\"mesh3d\":[{\"colorbar\":{\"outlinewidth\":0,\"ticks\":\"\"},\"type\":\"mesh3d\"}],\"parcoords\":[{\"line\":{\"colorbar\":{\"outlinewidth\":0,\"ticks\":\"\"}},\"type\":\"parcoords\"}],\"pie\":[{\"automargin\":true,\"type\":\"pie\"}],\"scatter\":[{\"marker\":{\"colorbar\":{\"outlinewidth\":0,\"ticks\":\"\"}},\"type\":\"scatter\"}],\"scatter3d\":[{\"line\":{\"colorbar\":{\"outlinewidth\":0,\"ticks\":\"\"}},\"marker\":{\"colorbar\":{\"outlinewidth\":0,\"ticks\":\"\"}},\"type\":\"scatter3d\"}],\"scattercarpet\":[{\"marker\":{\"colorbar\":{\"outlinewidth\":0,\"ticks\":\"\"}},\"type\":\"scattercarpet\"}],\"scattergeo\":[{\"marker\":{\"colorbar\":{\"outlinewidth\":0,\"ticks\":\"\"}},\"type\":\"scattergeo\"}],\"scattergl\":[{\"marker\":{\"colorbar\":{\"outlinewidth\":0,\"ticks\":\"\"}},\"type\":\"scattergl\"}],\"scattermapbox\":[{\"marker\":{\"colorbar\":{\"outlinewidth\":0,\"ticks\":\"\"}},\"type\":\"scattermapbox\"}],\"scatterpolar\":[{\"marker\":{\"colorbar\":{\"outlinewidth\":0,\"ticks\":\"\"}},\"type\":\"scatterpolar\"}],\"scatterpolargl\":[{\"marker\":{\"colorbar\":{\"outlinewidth\":0,\"ticks\":\"\"}},\"type\":\"scatterpolargl\"}],\"scatterternary\":[{\"marker\":{\"colorbar\":{\"outlinewidth\":0,\"ticks\":\"\"}},\"type\":\"scatterternary\"}],\"surface\":[{\"colorbar\":{\"outlinewidth\":0,\"ticks\":\"\"},\"colorscale\":[[0.0,\"#0d0887\"],[0.1111111111111111,\"#46039f\"],[0.2222222222222222,\"#7201a8\"],[0.3333333333333333,\"#9c179e\"],[0.4444444444444444,\"#bd3786\"],[0.5555555555555556,\"#d8576b\"],[0.6666666666666666,\"#ed7953\"],[0.7777777777777778,\"#fb9f3a\"],[0.8888888888888888,\"#fdca26\"],[1.0,\"#f0f921\"]],\"type\":\"surface\"}],\"table\":[{\"cells\":{\"fill\":{\"color\":\"#EBF0F8\"},\"line\":{\"color\":\"white\"}},\"header\":{\"fill\":{\"color\":\"#C8D4E3\"},\"line\":{\"color\":\"white\"}},\"type\":\"table\"}]},\"layout\":{\"annotationdefaults\":{\"arrowcolor\":\"#2a3f5f\",\"arrowhead\":0,\"arrowwidth\":1},\"autotypenumbers\":\"strict\",\"coloraxis\":{\"colorbar\":{\"outlinewidth\":0,\"ticks\":\"\"}},\"colorscale\":{\"diverging\":[[0,\"#8e0152\"],[0.1,\"#c51b7d\"],[0.2,\"#de77ae\"],[0.3,\"#f1b6da\"],[0.4,\"#fde0ef\"],[0.5,\"#f7f7f7\"],[0.6,\"#e6f5d0\"],[0.7,\"#b8e186\"],[0.8,\"#7fbc41\"],[0.9,\"#4d9221\"],[1,\"#276419\"]],\"sequential\":[[0.0,\"#0d0887\"],[0.1111111111111111,\"#46039f\"],[0.2222222222222222,\"#7201a8\"],[0.3333333333333333,\"#9c179e\"],[0.4444444444444444,\"#bd3786\"],[0.5555555555555556,\"#d8576b\"],[0.6666666666666666,\"#ed7953\"],[0.7777777777777778,\"#fb9f3a\"],[0.8888888888888888,\"#fdca26\"],[1.0,\"#f0f921\"]],\"sequentialminus\":[[0.0,\"#0d0887\"],[0.1111111111111111,\"#46039f\"],[0.2222222222222222,\"#7201a8\"],[0.3333333333333333,\"#9c179e\"],[0.4444444444444444,\"#bd3786\"],[0.5555555555555556,\"#d8576b\"],[0.6666666666666666,\"#ed7953\"],[0.7777777777777778,\"#fb9f3a\"],[0.8888888888888888,\"#fdca26\"],[1.0,\"#f0f921\"]]},\"colorway\":[\"#636efa\",\"#EF553B\",\"#00cc96\",\"#ab63fa\",\"#FFA15A\",\"#19d3f3\",\"#FF6692\",\"#B6E880\",\"#FF97FF\",\"#FECB52\"],\"font\":{\"color\":\"#2a3f5f\"},\"geo\":{\"bgcolor\":\"white\",\"lakecolor\":\"white\",\"landcolor\":\"#E5ECF6\",\"showlakes\":true,\"showland\":true,\"subunitcolor\":\"white\"},\"hoverlabel\":{\"align\":\"left\"},\"hovermode\":\"closest\",\"mapbox\":{\"style\":\"light\"},\"paper_bgcolor\":\"white\",\"plot_bgcolor\":\"#E5ECF6\",\"polar\":{\"angularaxis\":{\"gridcolor\":\"white\",\"linecolor\":\"white\",\"ticks\":\"\"},\"bgcolor\":\"#E5ECF6\",\"radialaxis\":{\"gridcolor\":\"white\",\"linecolor\":\"white\",\"ticks\":\"\"}},\"scene\":{\"xaxis\":{\"backgroundcolor\":\"#E5ECF6\",\"gridcolor\":\"white\",\"gridwidth\":2,\"linecolor\":\"white\",\"showbackground\":true,\"ticks\":\"\",\"zerolinecolor\":\"white\"},\"yaxis\":{\"backgroundcolor\":\"#E5ECF6\",\"gridcolor\":\"white\",\"gridwidth\":2,\"linecolor\":\"white\",\"showbackground\":true,\"ticks\":\"\",\"zerolinecolor\":\"white\"},\"zaxis\":{\"backgroundcolor\":\"#E5ECF6\",\"gridcolor\":\"white\",\"gridwidth\":2,\"linecolor\":\"white\",\"showbackground\":true,\"ticks\":\"\",\"zerolinecolor\":\"white\"}},\"shapedefaults\":{\"line\":{\"color\":\"#2a3f5f\"}},\"ternary\":{\"aaxis\":{\"gridcolor\":\"white\",\"linecolor\":\"white\",\"ticks\":\"\"},\"baxis\":{\"gridcolor\":\"white\",\"linecolor\":\"white\",\"ticks\":\"\"},\"bgcolor\":\"#E5ECF6\",\"caxis\":{\"gridcolor\":\"white\",\"linecolor\":\"white\",\"ticks\":\"\"}},\"title\":{\"x\":0.05},\"xaxis\":{\"automargin\":true,\"gridcolor\":\"white\",\"linecolor\":\"white\",\"ticks\":\"\",\"title\":{\"standoff\":15},\"zerolinecolor\":\"white\",\"zerolinewidth\":2},\"yaxis\":{\"automargin\":true,\"gridcolor\":\"white\",\"linecolor\":\"white\",\"ticks\":\"\",\"title\":{\"standoff\":15},\"zerolinecolor\":\"white\",\"zerolinewidth\":2}}},\"title\":{\"text\":\"Valores de Silhuenta Medios\"},\"xaxis\":{\"title\":{\"text\":\"Numero de Clusters\"}},\"yaxis\":{\"title\":{\"text\":\"Valor M\\u00e9dia de Silhueta\"}}},                        {\"responsive\": true}                    ).then(function(){\n",
              "                            \n",
              "var gd = document.getElementById('50e7cb61-ab94-446b-b833-43aa6fad5870');\n",
              "var x = new MutationObserver(function (mutations, observer) {{\n",
              "        var display = window.getComputedStyle(gd).display;\n",
              "        if (!display || display === 'none') {{\n",
              "            console.log([gd, 'removed!']);\n",
              "            Plotly.purge(gd);\n",
              "            observer.disconnect();\n",
              "        }}\n",
              "}});\n",
              "\n",
              "// Listen for the removal of the full notebook cells\n",
              "var notebookContainer = gd.closest('#notebook-container');\n",
              "if (notebookContainer) {{\n",
              "    x.observe(notebookContainer, {childList: true});\n",
              "}}\n",
              "\n",
              "// Listen for the clearing of the current output cell\n",
              "var outputEl = gd.closest('.output');\n",
              "if (outputEl) {{\n",
              "    x.observe(outputEl, {childList: true});\n",
              "}}\n",
              "\n",
              "                        })                };                            </script>        </div>\n",
              "</body>\n",
              "</html>"
            ]
          },
          "metadata": {}
        }
      ]
    },
    {
      "cell_type": "markdown",
      "source": [
        "> Avaliando-se o gráfico, tem-se que o Silhouette Score indica 2 Clusters como sendo a quantidade ideal para utilização do KMeans neste DataSet, o que vai contra o que esperávamos (5 Clusters). Entretanto, mesmo com 2 clusters, o Silhouette Score apresentou um resultado mais próximo de \"0\" do que de \"1\", o que indica que os clusters estão sobrepostos"
      ],
      "metadata": {
        "id": "0Frd8SwAbioE"
      }
    },
    {
      "cell_type": "markdown",
      "source": [
        "# 1.3.2 Otimização do Número de Cluster por KElbowVisualizer"
      ],
      "metadata": {
        "id": "ksCyOdiLIQOq"
      }
    },
    {
      "cell_type": "markdown",
      "source": [
        "> Utilizaremos também a métrica KElbowVisualizer do YellowBrick para obter tambem uma medida que representa a consistência do agrupamento realizado pelo KMeans. Para identificar a quantidade ideal de \"clusters\", treinaremos o modelo com todas as possibilidades de 2 a 10 clusters e selecionaremos aquele que obtiver o maior Silhouette Score. Essa varredura já é realizada pelo KElbowVisualizer, não necessitando da criação de uma função com uma estutura de repetição."
      ],
      "metadata": {
        "id": "_LDWf9Z9ectY"
      }
    },
    {
      "cell_type": "markdown",
      "source": [
        ""
      ],
      "metadata": {
        "id": "2e4e_6Nxez-E"
      }
    },
    {
      "cell_type": "code",
      "source": [
        "from yellowbrick.cluster import KElbowVisualizer"
      ],
      "metadata": {
        "id": "O77DqgIFg9sH"
      },
      "execution_count": 52,
      "outputs": []
    },
    {
      "cell_type": "code",
      "source": [
        "classificador = KMeans()\n",
        "visualizador = KElbowVisualizer(classificador, k=(2,10))\n",
        "visualizador.fit(dados_amostra)\n",
        "visualizador.poof()"
      ],
      "metadata": {
        "colab": {
          "base_uri": "https://localhost:8080/",
          "height": 393
        },
        "id": "iCazPKhjg-nx",
        "outputId": "8f4caea6-5afe-49d4-ccbb-120f62dac25f"
      },
      "execution_count": 53,
      "outputs": [
        {
          "output_type": "display_data",
          "data": {
            "text/plain": [
              "<Figure size 576x396 with 2 Axes>"
            ],
            "image/png": "[encoded data removed]"
          },
          "metadata": {}
        },
        {
          "output_type": "execute_result",
          "data": {
            "text/plain": [
              "<matplotlib.axes._subplots.AxesSubplot at 0x7f87d224ae50>"
            ]
          },
          "metadata": {},
          "execution_count": 53
        }
      ]
    },
    {
      "cell_type": "markdown",
      "source": [
        "> Pela abordagem do KElbowVisualizer, nota-se que \"5\" é o número ideal de clusters a ser utilizado no KMeans para treinamento do modelo. Esse resultado bate com o esperado, uma vez que de fato existem 5 traços de personalidade"
      ],
      "metadata": {
        "id": "1of4QenGsEkX"
      }
    },
    {
      "cell_type": "code",
      "source": [
        ""
      ],
      "metadata": {
        "id": "n1WLyHaWsxQA"
      },
      "execution_count": null,
      "outputs": []
    },
    {
      "cell_type": "markdown",
      "source": [
        "# 1.4 Treinando o Classificador Final"
      ],
      "metadata": {
        "id": "dYvprflts4j9"
      }
    },
    {
      "cell_type": "markdown",
      "source": [
        "> Para o treinamento do classificador final não será necessário a utilização do DataFrame de Amostra, uma vez que o custo precessual de treinamento não é muito alto.Sendo assim, utilizaremos o DataFrame \"Dados\""
      ],
      "metadata": {
        "id": "POEwPmuqtwEK"
      }
    },
    {
      "cell_type": "code",
      "source": [
        "modelo = KMeans(n_clusters = 5)\n",
        "classificador = modelo.fit(dados)"
      ],
      "metadata": {
        "id": "ceIunHp5s-Dh"
      },
      "execution_count": 55,
      "outputs": []
    },
    {
      "cell_type": "markdown",
      "source": [
        "> Com a classificador treinado com todos os dados, vamos inserir suas predições, isto é, suas classificações no DataFrame original"
      ],
      "metadata": {
        "id": "njCdvyM5udOZ"
      }
    },
    {
      "cell_type": "code",
      "source": [
        "predicoes = classificador.labels_\n",
        "dados[\"Classificação\"] = predicoes"
      ],
      "metadata": {
        "id": "bkI9hw_RuaBN"
      },
      "execution_count": 56,
      "outputs": []
    },
    {
      "cell_type": "code",
      "source": [
        "dados.head()"
      ],
      "metadata": {
        "colab": {
          "base_uri": "https://localhost:8080/",
          "height": 235
        },
        "id": "24K710acu2g3",
        "outputId": "47923dde-712c-4359-93c4-4cf96d060f2b"
      },
      "execution_count": 57,
      "outputs": [
        {
          "output_type": "execute_result",
          "data": {
            "text/plain": [
              "   EXT1  EXT2  EXT3  EXT4  EXT5  EXT6  EXT7  EXT8  EXT9  EXT10  ...  OPN2  \\\n",
              "0  4.00  1.00  5.00  2.00  5.00  1.00  5.00  2.00  4.00   1.00  ...  1.00   \n",
              "1  3.00  5.00  3.00  4.00  3.00  3.00  2.00  5.00  1.00   5.00  ...  2.00   \n",
              "2  2.00  3.00  4.00  4.00  3.00  2.00  1.00  3.00  2.00   5.00  ...  1.00   \n",
              "3  2.00  2.00  2.00  3.00  4.00  2.00  2.00  4.00  1.00   4.00  ...  2.00   \n",
              "4  3.00  3.00  3.00  3.00  5.00  3.00  3.00  5.00  3.00   4.00  ...  1.00   \n",
              "\n",
              "   OPN3  OPN4  OPN5  OPN6  OPN7  OPN8  OPN9  OPN10  Classificação  \n",
              "0  4.00  1.00  4.00  1.00  5.00  3.00  4.00   5.00              1  \n",
              "1  4.00  2.00  3.00  1.00  4.00  2.00  5.00   3.00              3  \n",
              "2  2.00  1.00  4.00  2.00  5.00  3.00  4.00   4.00              3  \n",
              "3  5.00  2.00  3.00  1.00  4.00  4.00  3.00   3.00              2  \n",
              "4  5.00  1.00  5.00  1.00  5.00  3.00  5.00   5.00              1  \n",
              "\n",
              "[5 rows x 51 columns]"
            ],
            "text/html": [
              "\n",
              "  <div id=\"df-888d40a1-4fd8-41fd-9ff7-73f5437ffd53\">\n",
              "    <div class=\"colab-df-container\">\n",
              "      <div>\n",
              "<style scoped>\n",
              "    .dataframe tbody tr th:only-of-type {\n",
              "        vertical-align: middle;\n",
              "    }\n",
              "\n",
              "    .dataframe tbody tr th {\n",
              "        vertical-align: top;\n",
              "    }\n",
              "\n",
              "    .dataframe thead th {\n",
              "        text-align: right;\n",
              "    }\n",
              "</style>\n",
              "<table border=\"1\" class=\"dataframe\">\n",
              "  <thead>\n",
              "    <tr style=\"text-align: right;\">\n",
              "      <th></th>\n",
              "      <th>EXT1</th>\n",
              "      <th>EXT2</th>\n",
              "      <th>EXT3</th>\n",
              "      <th>EXT4</th>\n",
              "      <th>EXT5</th>\n",
              "      <th>EXT6</th>\n",
              "      <th>EXT7</th>\n",
              "      <th>EXT8</th>\n",
              "      <th>EXT9</th>\n",
              "      <th>EXT10</th>\n",
              "      <th>...</th>\n",
              "      <th>OPN2</th>\n",
              "      <th>OPN3</th>\n",
              "      <th>OPN4</th>\n",
              "      <th>OPN5</th>\n",
              "      <th>OPN6</th>\n",
              "      <th>OPN7</th>\n",
              "      <th>OPN8</th>\n",
              "      <th>OPN9</th>\n",
              "      <th>OPN10</th>\n",
              "      <th>Classificação</th>\n",
              "    </tr>\n",
              "  </thead>\n",
              "  <tbody>\n",
              "    <tr>\n",
              "      <th>0</th>\n",
              "      <td>4.00</td>\n",
              "      <td>1.00</td>\n",
              "      <td>5.00</td>\n",
              "      <td>2.00</td>\n",
              "      <td>5.00</td>\n",
              "      <td>1.00</td>\n",
              "      <td>5.00</td>\n",
              "      <td>2.00</td>\n",
              "      <td>4.00</td>\n",
              "      <td>1.00</td>\n",
              "      <td>...</td>\n",
              "      <td>1.00</td>\n",
              "      <td>4.00</td>\n",
              "      <td>1.00</td>\n",
              "      <td>4.00</td>\n",
              "      <td>1.00</td>\n",
              "      <td>5.00</td>\n",
              "      <td>3.00</td>\n",
              "      <td>4.00</td>\n",
              "      <td>5.00</td>\n",
              "      <td>1</td>\n",
              "    </tr>\n",
              "    <tr>\n",
              "      <th>1</th>\n",
              "      <td>3.00</td>\n",
              "      <td>5.00</td>\n",
              "      <td>3.00</td>\n",
              "      <td>4.00</td>\n",
              "      <td>3.00</td>\n",
              "      <td>3.00</td>\n",
              "      <td>2.00</td>\n",
              "      <td>5.00</td>\n",
              "      <td>1.00</td>\n",
              "      <td>5.00</td>\n",
              "      <td>...</td>\n",
              "      <td>2.00</td>\n",
              "      <td>4.00</td>\n",
              "      <td>2.00</td>\n",
              "      <td>3.00</td>\n",
              "      <td>1.00</td>\n",
              "      <td>4.00</td>\n",
              "      <td>2.00</td>\n",
              "      <td>5.00</td>\n",
              "      <td>3.00</td>\n",
              "      <td>3</td>\n",
              "    </tr>\n",
              "    <tr>\n",
              "      <th>2</th>\n",
              "      <td>2.00</td>\n",
              "      <td>3.00</td>\n",
              "      <td>4.00</td>\n",
              "      <td>4.00</td>\n",
              "      <td>3.00</td>\n",
              "      <td>2.00</td>\n",
              "      <td>1.00</td>\n",
              "      <td>3.00</td>\n",
              "      <td>2.00</td>\n",
              "      <td>5.00</td>\n",
              "      <td>...</td>\n",
              "      <td>1.00</td>\n",
              "      <td>2.00</td>\n",
              "      <td>1.00</td>\n",
              "      <td>4.00</td>\n",
              "      <td>2.00</td>\n",
              "      <td>5.00</td>\n",
              "      <td>3.00</td>\n",
              "      <td>4.00</td>\n",
              "      <td>4.00</td>\n",
              "      <td>3</td>\n",
              "    </tr>\n",
              "    <tr>\n",
              "      <th>3</th>\n",
              "      <td>2.00</td>\n",
              "      <td>2.00</td>\n",
              "      <td>2.00</td>\n",
              "      <td>3.00</td>\n",
              "      <td>4.00</td>\n",
              "      <td>2.00</td>\n",
              "      <td>2.00</td>\n",
              "      <td>4.00</td>\n",
              "      <td>1.00</td>\n",
              "      <td>4.00</td>\n",
              "      <td>...</td>\n",
              "      <td>2.00</td>\n",
              "      <td>5.00</td>\n",
              "      <td>2.00</td>\n",
              "      <td>3.00</td>\n",
              "      <td>1.00</td>\n",
              "      <td>4.00</td>\n",
              "      <td>4.00</td>\n",
              "      <td>3.00</td>\n",
              "      <td>3.00</td>\n",
              "      <td>2</td>\n",
              "    </tr>\n",
              "    <tr>\n",
              "      <th>4</th>\n",
              "      <td>3.00</td>\n",
              "      <td>3.00</td>\n",
              "      <td>3.00</td>\n",
              "      <td>3.00</td>\n",
              "      <td>5.00</td>\n",
              "      <td>3.00</td>\n",
              "      <td>3.00</td>\n",
              "      <td>5.00</td>\n",
              "      <td>3.00</td>\n",
              "      <td>4.00</td>\n",
              "      <td>...</td>\n",
              "      <td>1.00</td>\n",
              "      <td>5.00</td>\n",
              "      <td>1.00</td>\n",
              "      <td>5.00</td>\n",
              "      <td>1.00</td>\n",
              "      <td>5.00</td>\n",
              "      <td>3.00</td>\n",
              "      <td>5.00</td>\n",
              "      <td>5.00</td>\n",
              "      <td>1</td>\n",
              "    </tr>\n",
              "  </tbody>\n",
              "</table>\n",
              "<p>5 rows × 51 columns</p>\n",
              "</div>\n",
              "      <button class=\"colab-df-convert\" onclick=\"convertToInteractive('df-888d40a1-4fd8-41fd-9ff7-73f5437ffd53')\"\n",
              "              title=\"Convert this dataframe to an interactive table.\"\n",
              "              style=\"display:none;\">\n",
              "        \n",
              "  <svg xmlns=\"http://www.w3.org/2000/svg\" height=\"24px\"viewBox=\"0 0 24 24\"\n",
              "       width=\"24px\">\n",
              "    <path d=\"M0 0h24v24H0V0z\" fill=\"none\"/>\n",
              "    <path d=\"M18.56 5.44l.94 2.06.94-2.06 2.06-.94-2.06-.94-.94-2.06-.94 2.06-2.06.94zm-11 1L8.5 8.5l.94-2.06 2.06-.94-2.06-.94L8.5 2.5l-.94 2.06-2.06.94zm10 10l.94 2.06.94-2.06 2.06-.94-2.06-.94-.94-2.06-.94 2.06-2.06.94z\"/><path d=\"M17.41 7.96l-1.37-1.37c-.4-.4-.92-.59-1.43-.59-.52 0-1.04.2-1.43.59L10.3 9.45l-7.72 7.72c-.78.78-.78 2.05 0 2.83L4 21.41c.39.39.9.59 1.41.59.51 0 1.02-.2 1.41-.59l7.78-7.78 2.81-2.81c.8-.78.8-2.07 0-2.86zM5.41 20L4 18.59l7.72-7.72 1.47 1.35L5.41 20z\"/>\n",
              "  </svg>\n",
              "      </button>\n",
              "      \n",
              "  <style>\n",
              "    .colab-df-container {\n",
              "      display:flex;\n",
              "      flex-wrap:wrap;\n",
              "      gap: 12px;\n",
              "    }\n",
              "\n",
              "    .colab-df-convert {\n",
              "      background-color: #E8F0FE;\n",
              "      border: none;\n",
              "      border-radius: 50%;\n",
              "      cursor: pointer;\n",
              "      display: none;\n",
              "      fill: #1967D2;\n",
              "      height: 32px;\n",
              "      padding: 0 0 0 0;\n",
              "      width: 32px;\n",
              "    }\n",
              "\n",
              "    .colab-df-convert:hover {\n",
              "      background-color: #E2EBFA;\n",
              "      box-shadow: 0px 1px 2px rgba(60, 64, 67, 0.3), 0px 1px 3px 1px rgba(60, 64, 67, 0.15);\n",
              "      fill: #174EA6;\n",
              "    }\n",
              "\n",
              "    [theme=dark] .colab-df-convert {\n",
              "      background-color: #3B4455;\n",
              "      fill: #D2E3FC;\n",
              "    }\n",
              "\n",
              "    [theme=dark] .colab-df-convert:hover {\n",
              "      background-color: #434B5C;\n",
              "      box-shadow: 0px 1px 3px 1px rgba(0, 0, 0, 0.15);\n",
              "      filter: drop-shadow(0px 1px 2px rgba(0, 0, 0, 0.3));\n",
              "      fill: #FFFFFF;\n",
              "    }\n",
              "  </style>\n",
              "\n",
              "      <script>\n",
              "        const buttonEl =\n",
              "          document.querySelector('#df-888d40a1-4fd8-41fd-9ff7-73f5437ffd53 button.colab-df-convert');\n",
              "        buttonEl.style.display =\n",
              "          google.colab.kernel.accessAllowed ? 'block' : 'none';\n",
              "\n",
              "        async function convertToInteractive(key) {\n",
              "          const element = document.querySelector('#df-888d40a1-4fd8-41fd-9ff7-73f5437ffd53');\n",
              "          const dataTable =\n",
              "            await google.colab.kernel.invokeFunction('convertToInteractive',\n",
              "                                                     [key], {});\n",
              "          if (!dataTable) return;\n",
              "\n",
              "          const docLinkHtml = 'Like what you see? Visit the ' +\n",
              "            '<a target=\"_blank\" href=https://colab.research.google.com/notebooks/data_table.ipynb>data table notebook</a>'\n",
              "            + ' to learn more about interactive tables.';\n",
              "          element.innerHTML = '';\n",
              "          dataTable['output_type'] = 'display_data';\n",
              "          await google.colab.output.renderOutput(dataTable, element);\n",
              "          const docLink = document.createElement('div');\n",
              "          docLink.innerHTML = docLinkHtml;\n",
              "          element.appendChild(docLink);\n",
              "        }\n",
              "      </script>\n",
              "    </div>\n",
              "  </div>\n",
              "  "
            ]
          },
          "metadata": {},
          "execution_count": 57
        }
      ]
    },
    {
      "cell_type": "markdown",
      "source": [
        "# 1.5 Criando uma Interface de Classificação"
      ],
      "metadata": {
        "id": "51EDSSUlvcD6"
      }
    },
    {
      "cell_type": "markdown",
      "source": [
        "> O classificador do projeto já se encontra treinado com os dados originais, estando apto à realizar classificações através do método \".predict(). Ese método deve receber como argumanto uma lista de 50 números inteiros variando de 1 a 5, representando as respostas para as 50 perguntas do teste de personalidade.\n",
        "> Para facilitar o processo de coleta e armazenamento dessa lista por parte do usuário final, criaremos uma interface através da biblioteca gradio"
      ],
      "metadata": {
        "id": "tSc6IYHxvl2g"
      }
    },
    {
      "cell_type": "code",
      "source": [
        "!pip install gradio"
      ],
      "metadata": {
        "id": "aAFM5BMcwFBU"
      },
      "execution_count": null,
      "outputs": []
    },
    {
      "cell_type": "code",
      "source": [
        "import gradio as gr\n",
        "Dicionario_de_Perguntas = pd.read_csv('Dicionario_de_Perguntas.csv', sep = \";\")"
      ],
      "metadata": {
        "id": "D9ifcaxvw6iJ"
      },
      "execution_count": 69,
      "outputs": []
    },
    {
      "cell_type": "code",
      "source": [
        "perguntas = Dicionario_de_Perguntas[\"PERGUNTA\"]"
      ],
      "metadata": {
        "id": "wyaiDto2xYj-"
      },
      "execution_count": 89,
      "outputs": []
    },
    {
      "cell_type": "code",
      "source": [
        "respostas = []\n",
        "for q in perguntas:\n",
        "  obj_input = gr.inputs.Slider(minimum=1,maximum=5,step=1,default=3,label=q)\n",
        "  respostas.append(obj_input)"
      ],
      "metadata": {
        "id": "fXVYRazo0-Rt"
      },
      "execution_count": null,
      "outputs": []
    },
    {
      "cell_type": "code",
      "source": [
        "def predict(*saidas):\n",
        "    saidas = np.array(saidas).reshape(1, -1)\n",
        "    return classificador.predict(saidas)\n",
        "\n",
        "iface = gr.Interface(\n",
        "                    fn = predict,\n",
        "                    title = \"Big Five Personality\",\n",
        "                    description = \"Sistema para detecção de traços de personalidade.\",\n",
        "                    inputs = respostas,\n",
        "                    outputs=\"text\")\n",
        "iface.launch(share=True)"
      ],
      "metadata": {
        "colab": {
          "base_uri": "https://localhost:8080/",
          "height": 730
        },
        "id": "M6s7MrQj1SCi",
        "outputId": "f33bd4d0-9c96-4f87-f7a0-477cc5352e59"
      },
      "execution_count": 100,
      "outputs": [
        {
          "output_type": "stream",
          "name": "stdout",
          "text": [
            "Colab notebook detected. To show errors in colab notebook, set `debug=True` in `launch()`\n",
            "Running on public URL: https://57298.gradio.app\n",
            "\n",
            "This share link expires in 72 hours. For free permanent hosting, check out Spaces (https://huggingface.co/spaces)\n"
          ]
        },
        {
          "output_type": "display_data",
          "data": {
            "text/plain": [
              "<IPython.core.display.HTML object>"
            ],
            "text/html": [
              "<div><iframe src=\"https://57298.gradio.app\" width=\"900\" height=\"500\" allow=\"autoplay; camera; microphone;\" frameborder=\"0\" allowfullscreen></iframe></div>"
            ]
          },
          "metadata": {}
        },
        {
          "output_type": "execute_result",
          "data": {
            "text/plain": [
              "(<gradio.routes.App at 0x7f870fd27650>,\n",
              " 'http://127.0.0.1:7864/',\n",
              " 'https://57298.gradio.app')"
            ]
          },
          "metadata": {},
          "execution_count": 100
        },
        {
          "output_type": "stream",
          "name": "stderr",
          "text": [
            "Exception in callback None(<Task finishe...> result=None>)\n",
            "handle: <Handle>\n",
            "Traceback (most recent call last):\n",
            "  File \"/usr/lib/python3.7/asyncio/events.py\", line 88, in _run\n",
            "    self._context.run(self._callback, *self._args)\n",
            "TypeError: 'NoneType' object is not callable\n"
          ]
        }
      ]
    }
  ]
}